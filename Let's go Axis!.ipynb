{
 "cells": [
  {
   "cell_type": "code",
   "execution_count": 13,
   "id": "curious-imagination",
   "metadata": {},
   "outputs": [],
   "source": [
    "### PREPARATION ###\n",
    "\n",
    "import pandas as pd\n",
    "import numpy as np\n",
    "\n",
    "#Loading Datasets\n",
    "\n",
    "Axis = pd.read_csv (r'/home/kaustubh/Downloads/Axis_Bank_BSE.csv')\n",
    "n_50 = pd.read_csv (r'/home/kaustubh/Downloads/NIFTY_50.csv')\n",
    "n_bank = pd.read_csv (r'/home/kaustubh/Downloads/NIFTY_BANK.csv')\n",
    "\n",
    "#Renaming Columns and Dropping Date, Volume and Close Columns \n",
    "\n",
    "n_50.rename(columns = {'Date':'N50_Date', 'Open':'N50_Open', 'High':'N50_High', 'Low':'N50_Low', 'Close':'N50_Close', 'Adj Close': 'N50_Adj Close', 'Volume': 'N50_Volume'}, inplace = True)\n",
    "n_bank.rename(columns = {'Date':'NB_Date','Open':'NB_Open', 'High':'NB_High', 'Low':'NB_Low', 'Close':'NB_Close', 'Adj Close': 'NB_Adj Close', 'Volume': 'NB_Volume'}, inplace = True)\n",
    "\n",
    "Axis = Axis.drop(['Date', 'Close'], axis = 1)\n",
    "Nifty_50 = n_50.drop(['N50_Date', 'N50_Volume', 'N50_Close', 'N50_Open', 'N50_High', 'N50_Low'], axis=1)\n",
    "Nifty_Bank = n_bank.drop(['NB_Date', 'NB_Volume', 'NB_Close', 'NB_Open', 'NB_High', 'NB_Low'], axis=1)\n",
    "\n",
    "#Merging the datasets and deleting rows with any null values to create Project Dataset\n",
    "\n",
    "Axis_Working = pd.concat([Axis, Nifty_50, Nifty_Bank], axis = 1)\n",
    "Axis_Working = Axis_Working.dropna(axis=0, how='any', thresh=None, subset=None, inplace=False)\n",
    "\n",
    "Axis_Working.reset_index(drop=True, inplace=True)\n",
    "\n",
    "Axis_Working_C = Axis_Working.copy()\n",
    "Axis_Working_C[\"Sign\"] =  Axis_Working_C[\"Adj Close\"].diff(1)\n",
    "Axis_Working_C.iat[0, 7] = 0\n",
    "Axis_Working_C[\"Direction\"] = \"\"\n",
    "\n",
    "i=0\n",
    "for j in range(2164):\n",
    "\n",
    "    if(Axis_Working_C.iat[i, 7] >= 0):\n",
    "        Axis_Working_C.iat[i, 8] = 1\n",
    "    else:\n",
    "        Axis_Working_C.iat[i, 8]= 0\n",
    "    i = i + 1\n",
    "    \n",
    "Axis_Working_C = Axis_Working_C.drop(['Sign'], axis = 1)\n",
    "\n",
    "#Creating Train and Test sets for Regression\n",
    "\n",
    "Axis_Working_Train = Axis_Working[ : 1732]\n",
    "Axis_Working_Test = Axis_Working[1732 : ]\n",
    "\n",
    "#Creating Train and Test sets for Classifiaction\n",
    "\n",
    "Axis_Working_C_train=Axis_Working_C[ : 1732]\n",
    "Axis_Working_C_test=Axis_Working_C[1732 : ]"
   ]
  },
  {
   "cell_type": "code",
   "execution_count": null,
   "id": "interior-machinery",
   "metadata": {},
   "outputs": [],
   "source": []
  },
  {
   "cell_type": "code",
   "execution_count": 5,
   "id": "modern-secretary",
   "metadata": {},
   "outputs": [
    {
     "data": {
      "text/html": [
       "<div>\n",
       "<style scoped>\n",
       "    .dataframe tbody tr th:only-of-type {\n",
       "        vertical-align: middle;\n",
       "    }\n",
       "\n",
       "    .dataframe tbody tr th {\n",
       "        vertical-align: top;\n",
       "    }\n",
       "\n",
       "    .dataframe thead th {\n",
       "        text-align: right;\n",
       "    }\n",
       "</style>\n",
       "<table border=\"1\" class=\"dataframe\">\n",
       "  <thead>\n",
       "    <tr style=\"text-align: right;\">\n",
       "      <th></th>\n",
       "      <th>Open</th>\n",
       "      <th>High</th>\n",
       "      <th>Low</th>\n",
       "      <th>Adj Close</th>\n",
       "      <th>Volume</th>\n",
       "      <th>N50_Adj Close</th>\n",
       "      <th>NB_Adj Close</th>\n",
       "    </tr>\n",
       "  </thead>\n",
       "  <tbody>\n",
       "    <tr>\n",
       "      <th>0</th>\n",
       "      <td>247.199997</td>\n",
       "      <td>248.389999</td>\n",
       "      <td>243.210007</td>\n",
       "      <td>226.918472</td>\n",
       "      <td>612515.0</td>\n",
       "      <td>6157.600098</td>\n",
       "      <td>11855.750000</td>\n",
       "    </tr>\n",
       "    <tr>\n",
       "      <th>1</th>\n",
       "      <td>246.000000</td>\n",
       "      <td>246.600006</td>\n",
       "      <td>237.000000</td>\n",
       "      <td>220.039368</td>\n",
       "      <td>762995.0</td>\n",
       "      <td>6146.350098</td>\n",
       "      <td>11564.049805</td>\n",
       "    </tr>\n",
       "    <tr>\n",
       "      <th>2</th>\n",
       "      <td>237.600006</td>\n",
       "      <td>238.600006</td>\n",
       "      <td>229.800003</td>\n",
       "      <td>214.120529</td>\n",
       "      <td>998500.0</td>\n",
       "      <td>6079.799805</td>\n",
       "      <td>11305.450195</td>\n",
       "    </tr>\n",
       "    <tr>\n",
       "      <th>3</th>\n",
       "      <td>232.000000</td>\n",
       "      <td>238.800003</td>\n",
       "      <td>230.399994</td>\n",
       "      <td>215.302460</td>\n",
       "      <td>730150.0</td>\n",
       "      <td>6048.250000</td>\n",
       "      <td>11186.799805</td>\n",
       "    </tr>\n",
       "    <tr>\n",
       "      <th>4</th>\n",
       "      <td>235.000000</td>\n",
       "      <td>245.779999</td>\n",
       "      <td>232.639999</td>\n",
       "      <td>225.671906</td>\n",
       "      <td>929630.0</td>\n",
       "      <td>5904.600098</td>\n",
       "      <td>11053.349609</td>\n",
       "    </tr>\n",
       "  </tbody>\n",
       "</table>\n",
       "</div>"
      ],
      "text/plain": [
       "         Open        High         Low   Adj Close    Volume  N50_Adj Close  \\\n",
       "0  247.199997  248.389999  243.210007  226.918472  612515.0    6157.600098   \n",
       "1  246.000000  246.600006  237.000000  220.039368  762995.0    6146.350098   \n",
       "2  237.600006  238.600006  229.800003  214.120529  998500.0    6079.799805   \n",
       "3  232.000000  238.800003  230.399994  215.302460  730150.0    6048.250000   \n",
       "4  235.000000  245.779999  232.639999  225.671906  929630.0    5904.600098   \n",
       "\n",
       "   NB_Adj Close  \n",
       "0  11855.750000  \n",
       "1  11564.049805  \n",
       "2  11305.450195  \n",
       "3  11186.799805  \n",
       "4  11053.349609  "
      ]
     },
     "execution_count": 5,
     "metadata": {},
     "output_type": "execute_result"
    }
   ],
   "source": [
    "Axis_Working_C.head()"
   ]
  },
  {
   "cell_type": "code",
   "execution_count": 6,
   "id": "brown-huntington",
   "metadata": {},
   "outputs": [
    {
     "name": "stdout",
     "output_type": "stream",
     "text": [
      "<class 'pandas.core.frame.DataFrame'>\n",
      "RangeIndex: 2165 entries, 0 to 2164\n",
      "Data columns (total 7 columns):\n",
      " #   Column         Non-Null Count  Dtype  \n",
      "---  ------         --------------  -----  \n",
      " 0   Open           2165 non-null   float64\n",
      " 1   High           2165 non-null   float64\n",
      " 2   Low            2165 non-null   float64\n",
      " 3   Adj Close      2165 non-null   float64\n",
      " 4   Volume         2165 non-null   float64\n",
      " 5   N50_Adj Close  2165 non-null   float64\n",
      " 6   NB_Adj Close   2165 non-null   float64\n",
      "dtypes: float64(7)\n",
      "memory usage: 118.5 KB\n"
     ]
    }
   ],
   "source": [
    "Axis_Working_C.info()"
   ]
  },
  {
   "cell_type": "code",
   "execution_count": 17,
   "id": "unnecessary-flower",
   "metadata": {},
   "outputs": [
    {
     "name": "stdout",
     "output_type": "stream",
     "text": [
      "Scores: [5.67719245 2.74899922 2.46593308 4.63984033 2.95341284 6.10087208\n",
      " 4.315554   3.28850385 4.29090367 6.80757693]\n",
      "Mean: 4.328878845341406\n",
      "Standard deviation: 1.419191455889225\n"
     ]
    }
   ],
   "source": [
    "import pandas as pd\n",
    "import numpy as np\n",
    "\n",
    "from sklearn.linear_model import LinearRegression\n",
    "from sklearn.model_selection import cross_val_score\n",
    "from sklearn.model_selection import train_test_split\n",
    "\n",
    "Axis_Targets = Axis_Working_Train[\"Adj Close\"].copy()\n",
    "Axis_Linear =  Axis_Working_Train.drop(\"Adj Close\", axis=1)\n",
    "\n",
    "lin_reg = LinearRegression()\n",
    "\n",
    "#Cross Validation\n",
    "\n",
    "scores = cross_val_score(lin_reg, Axis_Linear, Axis_Targets, scoring=\"neg_mean_squared_error\", cv=10)\n",
    "rmse_scores = np.sqrt(-scores)\n",
    "\n",
    "def display_scores(scores):\n",
    "    print(\"Scores:\", scores)\n",
    "    print(\"Mean:\", scores.mean())\n",
    "    print(\"Standard deviation:\", scores.std())\n",
    "\n",
    "display_scores(rmse_scores)"
   ]
  },
  {
   "cell_type": "code",
   "execution_count": 9,
   "id": "positive-blond",
   "metadata": {},
   "outputs": [
    {
     "name": "stdout",
     "output_type": "stream",
     "text": [
      "<class 'pandas.core.frame.DataFrame'>\n",
      "RangeIndex: 2469 entries, 0 to 2468\n",
      "Data columns (total 5 columns):\n",
      " #   Column     Non-Null Count  Dtype  \n",
      "---  ------     --------------  -----  \n",
      " 0   Open       2461 non-null   float64\n",
      " 1   High       2461 non-null   float64\n",
      " 2   Low        2461 non-null   float64\n",
      " 3   Adj Close  2461 non-null   float64\n",
      " 4   Volume     2461 non-null   float64\n",
      "dtypes: float64(5)\n",
      "memory usage: 96.6 KB\n"
     ]
    }
   ],
   "source": [
    "Axis.info()"
   ]
  },
  {
   "cell_type": "code",
   "execution_count": 10,
   "id": "ignored-emphasis",
   "metadata": {},
   "outputs": [
    {
     "name": "stdout",
     "output_type": "stream",
     "text": [
      "<class 'pandas.core.frame.DataFrame'>\n",
      "RangeIndex: 2165 entries, 0 to 2164\n",
      "Data columns (total 7 columns):\n",
      " #   Column         Non-Null Count  Dtype  \n",
      "---  ------         --------------  -----  \n",
      " 0   Open           2165 non-null   float64\n",
      " 1   High           2165 non-null   float64\n",
      " 2   Low            2165 non-null   float64\n",
      " 3   Adj Close      2165 non-null   float64\n",
      " 4   Volume         2165 non-null   float64\n",
      " 5   N50_Adj Close  2165 non-null   float64\n",
      " 6   NB_Adj Close   2165 non-null   float64\n",
      "dtypes: float64(7)\n",
      "memory usage: 118.5 KB\n"
     ]
    }
   ],
   "source": [
    "Axis_Working.info()"
   ]
  },
  {
   "cell_type": "code",
   "execution_count": 18,
   "id": "centered-statistics",
   "metadata": {},
   "outputs": [
    {
     "name": "stdout",
     "output_type": "stream",
     "text": [
      "Scores: [ 6.90915326  5.13714622  5.55129909  5.79909855 25.89479053  9.84305529\n",
      "  7.71602385  7.80129557  7.32491528 73.35816043]\n",
      "Mean: 15.533493806685646\n",
      "Standard deviation: 20.121073712890226\n"
     ]
    }
   ],
   "source": [
    "###Decision Tree Regressor##$\n",
    "\n",
    "import pandas as pd\n",
    "import numpy as np\n",
    "from sklearn.tree import DecisionTreeRegressor\n",
    "from sklearn.metrics import mean_squared_error\n",
    "from sklearn.model_selection import cross_val_score\n",
    "\n",
    "\n",
    "Axis_Targets = Axis_Working_Train[\"Adj Close\"].copy()\n",
    "Axis_DT =  Axis_Working_Train.drop(\"Adj Close\", axis=1)\n",
    "\n",
    "tree_reg = DecisionTreeRegressor()\n",
    "\n",
    "#Cross Validation\n",
    "\n",
    "scores = cross_val_score(tree_reg, Axis_DT, Axis_Targets, scoring=\"neg_mean_squared_error\", cv=10)\n",
    "rmse_scores = np.sqrt(-scores)\n",
    "\n",
    "def display_scores(scores):\n",
    "    print(\"Scores:\", scores)\n",
    "    print(\"Mean:\", scores.mean())\n",
    "    print(\"Standard deviation:\", scores.std())\n",
    "\n",
    "display_scores(rmse_scores)"
   ]
  },
  {
   "cell_type": "code",
   "execution_count": 20,
   "id": "limited-marble",
   "metadata": {},
   "outputs": [
    {
     "name": "stdout",
     "output_type": "stream",
     "text": [
      "Scores: [ 6.15210479  3.64281096  3.18717494  4.98156889 11.44903474  8.59548429\n",
      "  5.73689062  4.34777773  6.43176426 72.90406254]\n",
      "Mean: 12.742867377348265\n",
      "Standard deviation: 20.18770330224721\n"
     ]
    }
   ],
   "source": [
    "###Random Forest Regressor###\n",
    "\n",
    "import pandas as pd\n",
    "import numpy as np\n",
    "from sklearn.ensemble import RandomForestRegressor\n",
    "from sklearn.metrics import mean_squared_error\n",
    "from sklearn.model_selection import cross_val_score\n",
    "\n",
    "Axis_Targets = Axis_Working_Train[\"Adj Close\"].copy()\n",
    "Axis_RF =  Axis_Working_Train.drop(\"Adj Close\", axis=1)\n",
    "\n",
    "forest_reg = RandomForestRegressor()\n",
    "\n",
    "#Cross Validation\n",
    "\n",
    "scores = cross_val_score(forest_reg, Axis_RF, Axis_Targets, scoring=\"neg_mean_squared_error\", cv=10)\n",
    "rmse_scores = np.sqrt(-scores)\n",
    "\n",
    "def display_scores(scores):\n",
    "    print(\"Scores:\", scores)\n",
    "    print(\"Mean:\", scores.mean())\n",
    "    print(\"Standard deviation:\", scores.std())\n",
    "\n",
    "display_scores(rmse_scores)\n",
    "\n",
    "#Though the scores here are better than Decision Tree, they are worse than Linear Regression. \n",
    "#Is it so because the Random Forest Regressor is still overfitting the data?"
   ]
  },
  {
   "cell_type": "code",
   "execution_count": 21,
   "id": "delayed-pottery",
   "metadata": {},
   "outputs": [
    {
     "name": "stdout",
     "output_type": "stream",
     "text": [
      "Scores: [227.89463587 254.09190649 221.71238611 221.61436592 151.22959813\n",
      " 203.85158255 205.45407475 206.69067555 238.31293787 362.89517724]\n",
      "Mean: 229.37473404679366\n",
      "Standard deviation: 51.46311534860379\n"
     ]
    }
   ],
   "source": [
    "### SVR ###\n",
    "\n",
    "import pandas as pd\n",
    "import numpy as np\n",
    "from sklearn.metrics import mean_squared_error\n",
    "from sklearn.model_selection import cross_val_score\n",
    "from sklearn.svm import SVR\n",
    "\n",
    "Axis_Targets = Axis_Working_Train[\"Adj Close\"].copy()\n",
    "Axis_SVR =  Axis_Working_Train.drop(\"Adj Close\", axis=1)\n",
    "\n",
    "svm_reg = SVR()\n",
    "\n",
    "\n",
    "#Cross Validation\n",
    "\n",
    "scores = cross_val_score(svm_reg, Axis_SVR, Axis_Targets, scoring=\"neg_mean_squared_error\", cv=10)\n",
    "rmse_scores = np.sqrt(-scores)\n",
    "\n",
    "def display_scores(scores):\n",
    "    print(\"Scores:\", scores)\n",
    "    print(\"Mean:\", scores.mean())\n",
    "    print(\"Standard deviation:\", scores.std())\n",
    "\n",
    "display_scores(rmse_scores)\n",
    "\n",
    "#No idea why SVR is overfitting the data so badly (even worse than HDFC)"
   ]
  },
  {
   "cell_type": "code",
   "execution_count": null,
   "id": "decreased-capacity",
   "metadata": {},
   "outputs": [],
   "source": []
  }
 ],
 "metadata": {
  "kernelspec": {
   "display_name": "Python 3",
   "language": "python",
   "name": "python3"
  },
  "language_info": {
   "codemirror_mode": {
    "name": "ipython",
    "version": 3
   },
   "file_extension": ".py",
   "mimetype": "text/x-python",
   "name": "python",
   "nbconvert_exporter": "python",
   "pygments_lexer": "ipython3",
   "version": "3.8.5"
  }
 },
 "nbformat": 4,
 "nbformat_minor": 5
}
